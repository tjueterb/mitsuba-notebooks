{
 "cells": [
  {
   "cell_type": "markdown",
   "metadata": {},
   "source": [
    "\n",
    "# Test distance law\n",
    "\n",
    "This notebook tests if Mitsuba3 can reproduce the distance law. For omnidirectional sound sources, the sound power is defined as\n",
    "\n",
    "$$ P = \\int I \\, \\mathrm{d} S .$$\n",
    "\n",
    "For omnidirectional sources, the intensity is constant on spheres around the sound sources, which reduces the integral to\n",
    "\n",
    "$$ P = I \\cdot 4 \\pi r^2 .$$\n",
    "\n",
    "The intensity, which is proportional to the sound energy, decreases with the squared distance.\n",
    "\n",
    "$$ I = \\frac{P}{4 \\pi r^2} \\Rightarrow E \\sim \\frac{1}{r^2}$$\n",
    "\n",
    "Let's test this behavior in Mitsuba3:\n"
   ]
  },
  {
   "cell_type": "code",
   "execution_count": null,
   "metadata": {},
   "outputs": [],
   "source": [
    "import numpy as np\n",
    "from os import path\n",
    "import matplotlib.pyplot as plt\n",
    "import drjit as dr\n",
    "import mitsuba as mi\n",
    "from platform import system\n",
    "\n",
    "if system() == 'Darwin':\n",
    "    mi.set_variant('llvm_ad_acoustic')\n",
    "else:\n",
    "    mi.set_variant('cuda_ad_acoustic')\n",
    "print(f'Mitsuba variant: {mi.variant()}')\n",
    "\n",
    "from mitsuba import ScalarTransform4f as T\n",
    "\n",
    "\n",
    "# set retina backend for plotting with matplotlib magic\n",
    "%config InlineBackend.figure_format = 'retina'\n",
    "plt.style.use('ggplot')\n",
    "\n",
    "mi.set_log_level(mi.LogLevel.Warn)"
   ]
  },
  {
   "cell_type": "markdown",
   "metadata": {},
   "source": [
    "# Microphone and speaker positions"
   ]
  },
  {
   "cell_type": "code",
   "execution_count": null,
   "metadata": {},
   "outputs": [],
   "source": [
    "mic_pos = (0, 0, 0) # microphone position\n",
    "\n",
    "N = 30 # number of renderings\n",
    "distance = np.linspace(1, 10, N)   # distances from source to mic"
   ]
  },
  {
   "cell_type": "code",
   "execution_count": null,
   "metadata": {},
   "outputs": [],
   "source": [
    "config_acoustics = {\n",
    "    'speed_of_sound': 343.0,\n",
    "    'speaker_radius': 0.3,\n",
    "\n",
    "    'integrator': 'prb_acoustic',\n",
    "    'wav_bins': 1,                  # only one wav bin because we are not interested in frequency-dependent results\n",
    "    'max_depth': 1,                 # maximum number of bounces, 1 is enough because there is only direct sound\n",
    "    'max_time':  0.05,\n",
    "    'time_bins': 1,                 # only one time bin because we want to sum up all the energy anyway\n",
    "    'spp': 2**18,                   # samples per pixel -> total number of rays because there is only one pixel\n",
    "\n",
    "}"
   ]
  },
  {
   "cell_type": "markdown",
   "metadata": {},
   "source": [
    "Dictionary that we will use to build the acoustic scene, all objects, materials and parameters are defined in here.\n",
    "\n",
    "The acoustic scene uses an acoustic integrator, the acoustic BSDFs and the actual speaker and microphone as emitter and sensor, respectively. Otherwise, the scene definition is the same as the visual scene."
   ]
  },
  {
   "cell_type": "code",
   "execution_count": null,
   "metadata": {},
   "outputs": [],
   "source": [
    "scene_dict_acoustic = {\n",
    "    'type': 'scene',\n",
    "\n",
    "    'integrator': {\n",
    "        'type': config_acoustics['integrator'],\n",
    "        'max_depth': config_acoustics['max_depth'],\n",
    "        'max_time': config_acoustics['max_time'],\n",
    "        'speed_of_sound': config_acoustics['speed_of_sound'],\n",
    "        'skip_direct': False,\n",
    "    },\n",
    "\n",
    "    'microphone': {\n",
    "        'type': 'microphone',\n",
    "        'to_world': T.translate([0, 0, 0]),\n",
    "        'film': {\n",
    "            'type': 'tape',\n",
    "            'wav_bins':  config_acoustics['wav_bins'],\n",
    "            'time_bins': config_acoustics['time_bins'],\n",
    "            'rfilter': {'type': 'box'},\n",
    "            'count': True\n",
    "        },\n",
    "        'sampler': {'type': 'stratified', 'sample_count': config_acoustics['spp']},\n",
    "    },\n",
    "\n",
    "    'speaker': {\n",
    "        'type': 'sphere',\n",
    "        'radius': config_acoustics['speaker_radius'],\n",
    "        'center': (1, 0, 0),\n",
    "        'emitter': {'type': 'area', 'radiance': {'type': 'uniform', 'value': 100.}},\n",
    "\n",
    "    },\n",
    "}\n",
    "\n",
    "scene = mi.load_dict(scene_dict_acoustic)"
   ]
  },
  {
   "cell_type": "markdown",
   "metadata": {},
   "source": [
    "Render the scene. Note that for acoustic path tracing we need to set `spp` bin a lot higher than in the visual rendering to get good results. "
   ]
  },
  {
   "cell_type": "code",
   "execution_count": null,
   "metadata": {},
   "outputs": [],
   "source": [
    "energy_total = np.zeros_like(distance)\n",
    "\n",
    "for i, dist in enumerate(distance):\n",
    "    scene_dict_acoustic['speaker']['center'] = (dist, 0, 0)\n",
    "    scene = mi.load_dict(scene_dict_acoustic)\n",
    "    data = mi.render(scene, seed=0, spp=config_acoustics['spp'])\n",
    "    hist = data[:, :, 0] / config_acoustics[\"spp\"]\n",
    "\n",
    "    energy_total[i] = np.sum(hist) # the sum is redundant because there is only one time bin\n",
    "\n"
   ]
  },
  {
   "cell_type": "code",
   "execution_count": null,
   "metadata": {},
   "outputs": [],
   "source": [
    "distance_fine = np.linspace(1, 10, 150)\n",
    "\n",
    "plt.plot(distance_fine, 1/np.square(distance_fine), label=r'$1/r^2$')\n",
    "plt.plot(distance, energy_total / energy_total[0], 'o', label='Rendering')\n",
    "plt.xlabel('Distance in m')\n",
    "plt.ylabel(r'$E / E_\\mathrm{max}$')\n",
    "plt.legend()\n",
    "plt.show()"
   ]
  }
 ],
 "metadata": {
  "kernelspec": {
   "display_name": "mitsubadev",
   "language": "python",
   "name": "python3"
  },
  "language_info": {
   "codemirror_mode": {
    "name": "ipython",
    "version": 3
   },
   "file_extension": ".py",
   "mimetype": "text/x-python",
   "name": "python",
   "nbconvert_exporter": "python",
   "pygments_lexer": "ipython3",
   "version": "3.11.5"
  }
 },
 "nbformat": 4,
 "nbformat_minor": 2
}
