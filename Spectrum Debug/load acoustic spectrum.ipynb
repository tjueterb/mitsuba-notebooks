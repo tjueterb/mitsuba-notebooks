{
 "cells": [
  {
   "cell_type": "code",
   "execution_count": 9,
   "metadata": {},
   "outputs": [],
   "source": [
    "import mitsuba as mi\n",
    "import drjit as dr\n",
    "mi.set_variant('scalar_spectral')"
   ]
  },
  {
   "cell_type": "code",
   "execution_count": 50,
   "metadata": {},
   "outputs": [
    {
     "data": {
      "text/plain": [
       "AcousticSpectrum[\n",
       "  distr = IrregularContinuousDistribution[\n",
       "    size = 3,\n",
       "    nodes = [0, 0.41015, 1],\n",
       "    integral = 1.35254,\n",
       "    pdf = [1, 2, 0.5],\n",
       "  ]\n",
       "]"
      ]
     },
     "execution_count": 50,
     "metadata": {},
     "output_type": "execute_result"
    }
   ],
   "source": [
    "acoustic_spectrum = mi.load_dict({'type': 'acoustic',\n",
    "                                  'frequencies': '20, 340, 20000',\n",
    "                                  'values': '1, 2, .5',\n",
    "                                  })  # load acoustic spectrum\n",
    "\n",
    "# frequencies [20, 340, 20000] are logarithmically mapped to \n",
    "# normalized wavelengths [0, 0.41015, 1]\n",
    "acoustic_spectrum"
   ]
  },
  {
   "cell_type": "code",
   "execution_count": 51,
   "metadata": {},
   "outputs": [
    {
     "name": "stdout",
     "output_type": "stream",
     "text": [
      "Normalized wavelength:\n",
      "0\n",
      "Spectrum evaluated at this wavelength:\n",
      "[1.0, 1.0, 1.0, 1.0]\n",
      "Normalized spectrum evaluated at this wavelength:\n",
      "[0.7393510937690735, 0.7393510937690735, 0.7393510937690735, 0.7393510937690735]\n",
      "\n",
      "Normalized wavelength:\n",
      "0.41015\n",
      "Spectrum evaluated at this wavelength:\n",
      "[1.9999990463256836, 1.9999990463256836, 1.9999990463256836, 1.9999990463256836]\n",
      "Normalized spectrum evaluated at this wavelength:\n",
      "[1.4787014722824097, 1.4787014722824097, 1.4787014722824097, 1.4787014722824097]\n",
      "\n",
      "Normalized wavelength:\n",
      "1\n",
      "Spectrum evaluated at this wavelength:\n",
      "[0.5, 0.5, 0.5, 0.5]\n",
      "Normalized spectrum evaluated at this wavelength:\n",
      "[0.36967554688453674, 0.36967554688453674, 0.36967554688453674, 0.36967554688453674]\n",
      "\n"
     ]
    }
   ],
   "source": [
    "si = mi.SurfaceInteraction3f()\n",
    "\n",
    "# log-transformed wavelenths between 0 and 1, see acoustics.cpp\n",
    "# TODO: test with other values to see if it's really log-transformed\n",
    "wavelenghts_log = [0, .41015, 1]\n",
    "\n",
    "for i in range(len(wavelenghts_log)):\n",
    "        si.wavelengths = wavelenghts_log[i]\n",
    "        \n",
    "        print(f'Normalized wavelength:\\n{wavelenghts_log[i]}')\n",
    "        print(f'Spectrum evaluated at this wavelength:\\n{acoustic_spectrum.eval(si)}')\n",
    "        print(f'Normalized spectrum evaluated at this wavelength:\\n{acoustic_spectrum.pdf_spectrum(si)}')\n",
    "        print()\n",
    "        \n",
    "        assert dr.allclose(acoustic_spectrum.eval(si), acoustic_spectrum.pdf_spectrum(si) * 1.35254)\n"
   ]
  }
 ],
 "metadata": {
  "kernelspec": {
   "display_name": "mitsubadev",
   "language": "python",
   "name": "python3"
  },
  "language_info": {
   "codemirror_mode": {
    "name": "ipython",
    "version": 3
   },
   "file_extension": ".py",
   "mimetype": "text/x-python",
   "name": "python",
   "nbconvert_exporter": "python",
   "pygments_lexer": "ipython3",
   "version": "3.10.6"
  },
  "orig_nbformat": 4
 },
 "nbformat": 4,
 "nbformat_minor": 2
}
