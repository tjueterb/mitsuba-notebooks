{
 "cells": [
  {
   "cell_type": "code",
   "execution_count": null,
   "metadata": {},
   "outputs": [],
   "source": [
    "import mitsuba as mi\n",
    "import drjit as dr\n",
    "mi.set_variant('scalar_spectral')"
   ]
  },
  {
   "cell_type": "code",
   "execution_count": null,
   "metadata": {},
   "outputs": [],
   "source": [
    "acoustic_spectrum = mi.load_dict({'type': 'acoustic',\n",
    "                                  'frequencies': '20, 340, 20000',\n",
    "                                  'values': '1, 2, .5',\n",
    "                                  })  # load acoustic spectrum\n",
    "\n",
    "# frequencies [20, 340, 20000] are logarithmically mapped to \n",
    "# normalized wavelengths [0, 0.58985, 1]\n",
    "acoustic_spectrum"
   ]
  },
  {
   "cell_type": "code",
   "execution_count": null,
   "metadata": {},
   "outputs": [],
   "source": [
    "# wavelength range prints out the actual wavelengths\n",
    "print(acoustic_spectrum.wavelength_range())\n",
    "assert dr.allclose(acoustic_spectrum.wavelength_range(), [0.017, 17.0])"
   ]
  },
  {
   "cell_type": "code",
   "execution_count": null,
   "metadata": {},
   "outputs": [],
   "source": [
    "si = mi.SurfaceInteraction3f()\n",
    "\n",
    "# log-transformed wavelenths between 0 and 1, see acoustics.cpp\n",
    "# TODO: test with other values to see if it's really log-transformed\n",
    "wavelenghts_log = [0, .41015, 1]\n",
    "\n",
    "for i in range(len(wavelenghts_log)):\n",
    "        si.wavelengths = wavelenghts_log[i]\n",
    "        \n",
    "        print(f'Normalized wavelength:\\n{wavelenghts_log[i]}')\n",
    "        print(f'Spectrum evaluated at this wavelength:\\n{acoustic_spectrum.eval(si)}')\n",
    "        print(f'Normalized spectrum evaluated at this wavelength:\\n{acoustic_spectrum.pdf_spectrum(si)}')\n",
    "        print()\n",
    "        \n",
    "        assert dr.allclose(acoustic_spectrum.eval(si), acoustic_spectrum.pdf_spectrum(si) * 1.35254)\n"
   ]
  }
 ],
 "metadata": {
  "kernelspec": {
   "display_name": "mitsubadev",
   "language": "python",
   "name": "python3"
  },
  "language_info": {
   "codemirror_mode": {
    "name": "ipython",
    "version": 3
   },
   "file_extension": ".py",
   "mimetype": "text/x-python",
   "name": "python",
   "nbconvert_exporter": "python",
   "pygments_lexer": "ipython3",
   "version": "3.10.6"
  },
  "orig_nbformat": 4
 },
 "nbformat": 4,
 "nbformat_minor": 2
}
