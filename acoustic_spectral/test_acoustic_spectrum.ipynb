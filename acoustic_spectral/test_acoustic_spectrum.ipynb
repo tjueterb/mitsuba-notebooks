{
 "cells": [
  {
   "cell_type": "code",
   "execution_count": null,
   "metadata": {},
   "outputs": [],
   "source": [
    "import mitsuba as mi\n",
    "import drjit as dr\n",
    "import numpy as np\n",
    "import platform\n",
    "import matplotlib.pyplot as plt\n",
    "\n",
    "if platform.system() == 'Darwin':\n",
    "    mi.set_variant('llvm_acoustic')\n",
    "else:\n",
    "    mi.set_variant('cuda_acoustic')\n",
    "\n",
    "print(f'Mitsuba variant: {mi.variant()}')"
   ]
  },
  {
   "cell_type": "code",
   "execution_count": null,
   "metadata": {},
   "outputs": [],
   "source": [
    "c = 340\n",
    "\n",
    "spectrum = mi.load_dict({\n",
    "    \"type\": \"acoustic\",\n",
    "    \"speed_of_sound\": c,\n",
    "    \"frequencies\": \"200, 300, 500\",\n",
    "    \"values\": \"0.5, 2, 1\"\n",
    "})\n",
    "print(spectrum)"
   ]
  },
  {
   "cell_type": "code",
   "execution_count": null,
   "metadata": {},
   "outputs": [],
   "source": [
    "si = mi.SurfaceInteraction3f()\n",
    "\n",
    "# note that the distribution is sorted by wavelengths in ascending order\n",
    "frequencies = [100, 200, 300, 400  , 500, 600]\n",
    "values      = [0  , 0.5, 2  , 1.375, 1  , 0  ] # at 400 Hz the value is interpolated in wavelength space\n",
    "for i in range(len(values)):\n",
    "    si.wavelengths = c / frequencies[i]\n",
    "    print(f'frequency: {frequencies[i]} Hz')\n",
    "    print(f'    wavelength: {si.wavelengths}')\n",
    "    print(f'    values[i]: {values[i]}')\n",
    "    print(f'    eval(): {spectrum.eval(si)}')\n",
    "    # assert dr.allclose(spectrum.eval(si), values[i])\n",
    "\n",
    "    print(f'    PDF: {spectrum.pdf_spectrum(si)}')\n",
    "    print(f'    values[i]/integral: {values[i] / 1.38833}\\n') # divide by integal of pdf\n",
    "    # assert dr.allclose(spectrum.pdf_spectrum(si), values[i] / 1.38833)"
   ]
  },
  {
   "cell_type": "markdown",
   "metadata": {},
   "source": [
    "# Sampling of a uniform spectrum\n",
    "\n",
    "In order to sample a uniform spectrum, we need to sample in logarithmic frequency space so that importance sampling produces equal amounts of rays in each frequency band. \n",
    "\n",
    "The following code shows how to sample a uniform spectrum using the `sample_spectrum()` method of the `mitsuba.Spectrum` class:"
   ]
  },
  {
   "cell_type": "code",
   "execution_count": null,
   "metadata": {},
   "outputs": [],
   "source": [
    "c = 340\n",
    "\n",
    "spectrum = mi.load_dict({\n",
    "    \"type\": \"acoustic\",\n",
    "    \"speed_of_sound\": c,\n",
    "    \"frequencies\": \"250, 1000\",\n",
    "    \"values\": \"1, 1\"\n",
    "})\n",
    "print(spectrum)"
   ]
  },
  {
   "cell_type": "code",
   "execution_count": null,
   "metadata": {},
   "outputs": [],
   "source": [
    "print(f'For uniform samples s=0 and s=1, the spectrum is sampled at the min and max wavelength, respectively, which corresponds to the min and max frequency of 250 Hz and 1000 Hz.')\n",
    "print('For s=0.5, the sample is at the middle of the spectrum in logarithmic frequency space (500 Hz).\\n')\n",
    "\n",
    "si = mi.SurfaceInteraction3f()\n",
    "\n",
    "for s in [0, .5, 1]:\n",
    "    # Sample the spectrum using the current uniform sample\n",
    "    sample = spectrum.sample_spectrum(si, s)\n",
    "\n",
    "    print(f'uniform sample: {s}')\n",
    "    print(f'    wavelength sample: {sample[0]}')\n",
    "    print(f'    frequency of sample: {c/sample[0]}')"
   ]
  }
 ],
 "metadata": {
  "kernelspec": {
   "display_name": "mitsubadev",
   "language": "python",
   "name": "python3"
  },
  "language_info": {
   "codemirror_mode": {
    "name": "ipython",
    "version": 3
   },
   "file_extension": ".py",
   "mimetype": "text/x-python",
   "name": "python",
   "nbconvert_exporter": "python",
   "pygments_lexer": "ipython3",
   "version": "3.10.13"
  }
 },
 "nbformat": 4,
 "nbformat_minor": 2
}
