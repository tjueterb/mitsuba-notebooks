{
 "cells": [
  {
   "cell_type": "code",
   "execution_count": 1,
   "metadata": {},
   "outputs": [
    {
     "name": "stdout",
     "output_type": "stream",
     "text": [
      "Mitsuba variant: llvm_acoustic\n"
     ]
    }
   ],
   "source": [
    "import mitsuba as mi\n",
    "import drjit as dr\n",
    "import numpy as np\n",
    "import platform\n",
    "import matplotlib.pyplot as plt\n",
    "\n",
    "if platform.system() == 'Darwin':\n",
    "    mi.set_variant('llvm_acoustic')\n",
    "else:\n",
    "    mi.set_variant('cuda_acoustic')\n",
    "\n",
    "print(f'Mitsuba variant: {mi.variant()}')"
   ]
  },
  {
   "cell_type": "code",
   "execution_count": 2,
   "metadata": {},
   "outputs": [
    {
     "data": {
      "text/html": [
       "<span style=\"font-family: monospace; color: #bbb\">2023-10-24 13:40:40 DEBUG main  [PluginManager] Loading plugin &quot;plugins/acoustic.dylib&quot; ..</span>"
      ]
     },
     "metadata": {},
     "output_type": "display_data"
    },
    {
     "name": "stdout",
     "output_type": "stream",
     "text": [
      "AcousticSpectrum[\n",
      "m_distr = IrregularContinuousDistribution[\n",
      "    size = 3,\n",
      "    nodes = [200, 300, 500],\n",
      "    integral = [425],\n",
      "    pdf = [0.5, 2, 1],\n",
      "  ]\n",
      "]\n",
      "m_distr_log = IrregularContinuousDistribution[\n",
      "    size = 3,\n",
      "    nodes = [7.64386, 8.22882, 8.96578],\n",
      "    integral = [1.83665],\n",
      "    pdf = [0.5, 2, 1],\n",
      "  ]\n",
      "m_distr_wavelengths = IrregularContinuousDistribution[\n",
      "    size = 3,\n",
      "    nodes = [0.68, 1.13333, 1.7],\n",
      "    integral = [1.38833],\n",
      "    pdf = [1, 2, 0.5],\n",
      "  ]\n",
      "\n"
     ]
    }
   ],
   "source": [
    "spectrum = mi.load_dict({\n",
    "    \"type\": \"acoustic\",\n",
    "    \"frequencies\": \"200, 300, 500\",\n",
    "    \"values\": \"0.5, 2, 1\"\n",
    "})\n",
    "print(spectrum)"
   ]
  },
  {
   "cell_type": "code",
   "execution_count": 3,
   "metadata": {},
   "outputs": [
    {
     "name": "stdout",
     "output_type": "stream",
     "text": [
      "frequency: 100 Hz\n",
      "    wavelength: [[3.4000000953674316]]\n",
      "    values[i]: 0\n",
      "    eval(): [[0.0]]\n",
      "    PDF: [[0.0]]\n",
      "    values[i]/integral: 0.0\n",
      "\n",
      "frequency: 200 Hz\n",
      "    wavelength: [[1.7000000476837158]]\n",
      "    values[i]: 0.5\n",
      "    eval(): [[0.5]]\n",
      "    PDF: [[0.3601440489292145]]\n",
      "    values[i]/integral: 0.3601449223167402\n",
      "\n",
      "frequency: 300 Hz\n",
      "    wavelength: [[1.1333333253860474]]\n",
      "    values[i]: 2\n",
      "    eval(): [[2.0]]\n",
      "    PDF: [[1.440576195716858]]\n",
      "    values[i]/integral: 1.440579689266961\n",
      "\n",
      "frequency: 400 Hz\n",
      "    wavelength: [[0.8500000238418579]]\n",
      "    values[i]: 1.375\n",
      "    eval(): [[1.375]]\n",
      "    PDF: [[0.9903961420059204]]\n",
      "    values[i]/integral: 0.9903985363710357\n",
      "\n",
      "frequency: 500 Hz\n",
      "    wavelength: [[0.6800000071525574]]\n",
      "    values[i]: 1\n",
      "    eval(): [[1.0]]\n",
      "    PDF: [[0.720288097858429]]\n",
      "    values[i]/integral: 0.7202898446334804\n",
      "\n",
      "frequency: 600 Hz\n",
      "    wavelength: [[0.5666666626930237]]\n",
      "    values[i]: 0\n",
      "    eval(): [[0.0]]\n",
      "    PDF: [[0.0]]\n",
      "    values[i]/integral: 0.0\n",
      "\n"
     ]
    }
   ],
   "source": [
    "si = mi.SurfaceInteraction3f()\n",
    "\n",
    "# note that the distribution is sorted by wavelengths in ascending order\n",
    "frequencies = [100, 200, 300, 400  , 500, 600]\n",
    "values      = [0  , 0.5, 2  , 1.375, 1  , 0  ] # at 400 Hz the value is interpolated in wavelength space\n",
    "c = 340\n",
    "for i in range(len(values)):\n",
    "    si.wavelengths = c / frequencies[i]\n",
    "    print(f'frequency: {frequencies[i]} Hz')\n",
    "    print(f'    wavelength: {si.wavelengths}')\n",
    "    print(f'    values[i]: {values[i]}')\n",
    "    print(f'    eval(): {spectrum.eval(si)}')\n",
    "    # assert dr.allclose(spectrum.eval(si), values[i])\n",
    "\n",
    "    print(f'    PDF: {spectrum.pdf_spectrum(si)}')\n",
    "    print(f'    values[i]/integral: {values[i] / 1.38833}\\n') # divide by integal of pdf\n",
    "    # assert dr.allclose(spectrum.pdf_spectrum(si), values[i] / 1.38833)"
   ]
  },
  {
   "cell_type": "markdown",
   "metadata": {},
   "source": [
    "# Sampling of a uniform spectrum\n",
    "\n",
    "In order to sample a uniform spectrum, we need to sample in logarithmic frequency space so that importance sampling produces equal amounts of rays in each frequency band. \n",
    "\n",
    "The following code shows how to sample a uniform spectrum using the `sample_spectrum()` method of the `mitsuba.Spectrum` class:"
   ]
  },
  {
   "cell_type": "code",
   "execution_count": 4,
   "metadata": {},
   "outputs": [
    {
     "name": "stdout",
     "output_type": "stream",
     "text": [
      "AcousticSpectrum[\n",
      "m_distr = IrregularContinuousDistribution[\n",
      "    size = 2,\n",
      "    nodes = [250, 1000],\n",
      "    integral = [750],\n",
      "    pdf = [1, 1],\n",
      "  ]\n",
      "]\n",
      "m_distr_log = IrregularContinuousDistribution[\n",
      "    size = 2,\n",
      "    nodes = [7.96578, 9.96578],\n",
      "    integral = [2],\n",
      "    pdf = [1, 1],\n",
      "  ]\n",
      "m_distr_wavelengths = IrregularContinuousDistribution[\n",
      "    size = 2,\n",
      "    nodes = [0.34, 1.36],\n",
      "    integral = [1.02],\n",
      "    pdf = [1, 1],\n",
      "  ]\n",
      "\n"
     ]
    }
   ],
   "source": [
    "spectrum = mi.load_dict({\n",
    "    \"type\": \"acoustic\",\n",
    "    \"frequencies\": \"250, 1000\",\n",
    "    \"values\": \"1, 1\"\n",
    "})\n",
    "print(spectrum)"
   ]
  },
  {
   "cell_type": "code",
   "execution_count": 5,
   "metadata": {},
   "outputs": [
    {
     "name": "stdout",
     "output_type": "stream",
     "text": [
      "For uniform samples s=0 and s=1, the spectrum is sampled at the min and max wavelength, respectively, which corresponds to the min and max frequency of 250 Hz and 1000 Hz.\n",
      "For s=0.5, the sample is at the middle of the spectrum in logarithmic frequency space (500 Hz).\n",
      "\n",
      "uniform sample: 0\n",
      "    wavelength sample: [[0.3400000333786011]]\n",
      "    frequency of sample: [[999.9998779296875]]\n",
      "uniform sample: 0.5\n",
      "    wavelength sample: [[0.6800000667572021]]\n",
      "    frequency of sample: [[499.99993896484375]]\n",
      "uniform sample: 1\n",
      "    wavelength sample: [[1.3600001335144043]]\n",
      "    frequency of sample: [[249.99996948242188]]\n"
     ]
    }
   ],
   "source": [
    "print(f'For uniform samples s=0 and s=1, the spectrum is sampled at the min and max wavelength, respectively, which corresponds to the min and max frequency of 250 Hz and 1000 Hz.')\n",
    "print('For s=0.5, the sample is at the middle of the spectrum in logarithmic frequency space (500 Hz).\\n')\n",
    "\n",
    "for s in [0, .5, 1]:\n",
    "    # Sample the spectrum using the current uniform sample\n",
    "    sample = spectrum.sample_spectrum(si, s)\n",
    "\n",
    "    print(f'uniform sample: {s}')\n",
    "    print(f'    wavelength sample: {sample[0]}')\n",
    "    print(f'    frequency of sample: {c/sample[0]}')"
   ]
  }
 ],
 "metadata": {
  "kernelspec": {
   "display_name": "mitsubadev",
   "language": "python",
   "name": "python3"
  },
  "language_info": {
   "codemirror_mode": {
    "name": "ipython",
    "version": 3
   },
   "file_extension": ".py",
   "mimetype": "text/x-python",
   "name": "python",
   "nbconvert_exporter": "python",
   "pygments_lexer": "ipython3",
   "version": "3.11.2"
  }
 },
 "nbformat": 4,
 "nbformat_minor": 2
}
