{
 "cells": [
  {
   "cell_type": "code",
   "execution_count": 8,
   "metadata": {},
   "outputs": [],
   "source": [
    "import mitsuba as mi\n",
    "import drjit as dr\n",
    "import numpy as np\n",
    "mi.set_variant('cuda_acoustic')\n",
    "mi.variant()\n",
    "import matplotlib.pyplot as plt"
   ]
  },
  {
   "cell_type": "code",
   "execution_count": 9,
   "metadata": {},
   "outputs": [
    {
     "name": "stdout",
     "output_type": "stream",
     "text": [
      "AcousticSpectrum[\n",
      "m_dist = IrregularContinuousDistribution[\n",
      "    size = 3,\n",
      "    nodes = [200, 300, 500],\n",
      "    integral = [425],\n",
      "    pdf = [0.5, 2, 1],\n",
      "  ]\n",
      "]\n"
     ]
    }
   ],
   "source": [
    "spectrum = mi.load_dict({\n",
    "    \"type\": \"acoustic\",\n",
    "    \"frequencies\": \"200, 300, 500\",\n",
    "    \"values\": \"0.5, 2, 1\"\n",
    "})\n",
    "print(spectrum)"
   ]
  },
  {
   "cell_type": "code",
   "execution_count": 10,
   "metadata": {},
   "outputs": [
    {
     "name": "stdout",
     "output_type": "stream",
     "text": [
      "frequency: 100\n",
      "wavelength: [[3.4000000953674316]]\n",
      "values[i]: 0\n",
      "eval(): [[0.0]]\n",
      "PDF: [[0.0]]\n",
      "values[i]/integral: 0.0\n",
      "\n",
      "frequency: 200\n",
      "wavelength: [[1.7000000476837158]]\n",
      "values[i]: 0.5\n",
      "eval(): [[0.5]]\n",
      "PDF: [[0.001176470541395247]]\n",
      "values[i]/integral: 0.001176470588235294\n",
      "\n",
      "frequency: 300\n",
      "wavelength: [[1.1333333253860474]]\n",
      "values[i]: 2\n",
      "eval(): [[2.0]]\n",
      "PDF: [[0.004705882165580988]]\n",
      "values[i]/integral: 0.004705882352941176\n",
      "\n",
      "frequency: 400\n",
      "wavelength: [[0.8500000238418579]]\n",
      "values[i]: 1.5\n",
      "eval(): [[1.5]]\n",
      "PDF: [[0.0035294117406010628]]\n",
      "values[i]/integral: 0.0035294117647058825\n",
      "\n",
      "frequency: 500\n",
      "wavelength: [[0.6800000071525574]]\n",
      "values[i]: 1\n",
      "eval(): [[1.0]]\n",
      "PDF: [[0.002352941082790494]]\n",
      "values[i]/integral: 0.002352941176470588\n",
      "\n",
      "frequency: 600\n",
      "wavelength: [[0.5666666626930237]]\n",
      "values[i]: 0\n",
      "eval(): [[0.0]]\n",
      "PDF: [[0.0]]\n",
      "values[i]/integral: 0.0\n",
      "\n"
     ]
    }
   ],
   "source": [
    "si = mi.SurfaceInteraction3f()\n",
    "\n",
    "# note that the distribution is sorted by wavelengths in ascending order\n",
    "frequencies = [100, 200, 300, 400, 500, 600]\n",
    "values      = [0  , 0.5, 2  , 1.5, 1  , 0  ]\n",
    "c = 340\n",
    "for i in range(len(values)):\n",
    "    si.wavelengths = c / frequencies[i]\n",
    "    print(f'frequency: {frequencies[i]}')\n",
    "    print(f'wavelength: {si.wavelengths}')\n",
    "    print(f'values[i]: {values[i]}')\n",
    "    print(f'eval(): {spectrum.eval(si)}')\n",
    "    assert dr.allclose(spectrum.eval(si), values[i])\n",
    "\n",
    "    print(f'PDF: {spectrum.pdf_spectrum(si)}')\n",
    "    print(f'values[i]/integral: {values[i] / 425}\\n') # divide by integal of pdf\n",
    "    assert dr.allclose(spectrum.pdf_spectrum(si), values[i] / 425)"
   ]
  },
  {
   "cell_type": "code",
   "execution_count": 11,
   "metadata": {},
   "outputs": [
    {
     "name": "stdout",
     "output_type": "stream",
     "text": [
      "sample: ([[0.6800000071525574]], [[425.0]])\n",
      "499.9999947407667\n"
     ]
    }
   ],
   "source": [
    "sample = spectrum.sample_spectrum(si, 0)\n",
    "\n",
    "print(f'sample: {sample}')\n",
    "print(c/sample[0][0][0])"
   ]
  }
 ],
 "metadata": {
  "kernelspec": {
   "display_name": "mitsubadev",
   "language": "python",
   "name": "python3"
  },
  "language_info": {
   "codemirror_mode": {
    "name": "ipython",
    "version": 3
   },
   "file_extension": ".py",
   "mimetype": "text/x-python",
   "name": "python",
   "nbconvert_exporter": "python",
   "pygments_lexer": "ipython3",
   "version": "3.10.13"
  }
 },
 "nbformat": 4,
 "nbformat_minor": 2
}
