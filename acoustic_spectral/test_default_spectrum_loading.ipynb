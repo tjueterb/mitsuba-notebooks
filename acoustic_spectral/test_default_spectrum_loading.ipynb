{
 "cells": [
  {
   "cell_type": "code",
   "execution_count": 16,
   "metadata": {},
   "outputs": [
    {
     "name": "stdout",
     "output_type": "stream",
     "text": [
      "Mitsuba variant: cuda_acoustic\n"
     ]
    }
   ],
   "source": [
    "import mitsuba as mi\n",
    "import drjit as dr\n",
    "import numpy as np\n",
    "import platform\n",
    "import matplotlib.pyplot as plt\n",
    "\n",
    "if platform.system() == 'Darwin':\n",
    "    mi.set_variant('llvm_acoustic')\n",
    "else:\n",
    "    mi.set_variant('cuda_acoustic')\n",
    "\n",
    "\n",
    "print(f'Mitsuba variant: {mi.variant()}')\n",
    "mi.set_log_level(mi.LogLevel.Debug)"
   ]
  },
  {
   "cell_type": "markdown",
   "metadata": {},
   "source": [
    "# Default spectrum Loading\n",
    "\n",
    "An acoustic spectrum can always be instantiated explicitly:"
   ]
  },
  {
   "cell_type": "code",
   "execution_count": 17,
   "metadata": {},
   "outputs": [
    {
     "name": "stdout",
     "output_type": "stream",
     "text": [
      "AcousticSpectrum[\n",
      "speed_of_sound = 343\n",
      "m_distr = IrregularContinuousDistribution[\n",
      "    size = 3,\n",
      "    nodes = [250, 500, 1000],\n",
      "    integral = [1625],\n",
      "    pdf = [1, 2, 3],\n",
      "  ]\n",
      "]\n",
      "\n"
     ]
    }
   ],
   "source": [
    "spectrum = mi.load_dict({\n",
    "    'type': 'acoustic',\n",
    "\n",
    "    'frequencies': '250, 500, 1000,',\n",
    "    'values': '1, 2, 3',\n",
    "})\n",
    "print(spectrum)"
   ]
  },
  {
   "cell_type": "markdown",
   "metadata": {},
   "source": [
    "However, the user is encouraged to instantiate a generic spectrum and let mitsuba automatically instantiate the correct spectrum type depending on the variant. This is done using the \"spectrum\" keyword.\n",
    "\n",
    "The \"value\" keyword then contains frequency - value pairs sorted in tuples. These can either be typed in directly:"
   ]
  },
  {
   "cell_type": "code",
   "execution_count": 18,
   "metadata": {},
   "outputs": [
    {
     "name": "stdout",
     "output_type": "stream",
     "text": [
      "AcousticSpectrum[\n",
      "speed_of_sound = 343\n",
      "m_distr = IrregularContinuousDistribution[\n",
      "    size = 3,\n",
      "    nodes = [250, 500, 1000],\n",
      "    integral = [187.5],\n",
      "    pdf = [0.1, 0.2, 0.4],\n",
      "  ]\n",
      "]\n",
      "\n"
     ]
    }
   ],
   "source": [
    "spectrum = mi.load_dict({\n",
    "    \"type\": \"spectrum\",\n",
    "    \"value\": [(250, 0.1), (500, 0.2), (1000, 0.4)],\n",
    "})\n",
    "print(spectrum)"
   ]
  },
  {
   "cell_type": "markdown",
   "metadata": {},
   "source": [
    "Or, more conveniently, using the `zip` function:"
   ]
  },
  {
   "cell_type": "code",
   "execution_count": 19,
   "metadata": {},
   "outputs": [
    {
     "name": "stdout",
     "output_type": "stream",
     "text": [
      "AcousticSpectrum[\n",
      "speed_of_sound = 343\n",
      "m_distr = IrregularContinuousDistribution[\n",
      "    size = 3,\n",
      "    nodes = [250, 500, 1000],\n",
      "    integral = [1625],\n",
      "    pdf = [1, 2, 3],\n",
      "  ]\n",
      "]\n",
      "\n"
     ]
    }
   ],
   "source": [
    "frequencies = [250, 500, 1000]\n",
    "values      = [1,   2,   3]\n",
    "\n",
    "spectrum = mi.load_dict({\n",
    "    \"type\": \"spectrum\",\n",
    "    \"value\": list(zip(frequencies, values))\n",
    "})\n",
    "print(spectrum)"
   ]
  },
  {
   "cell_type": "markdown",
   "metadata": {},
   "source": [
    "Note that setting the speed of sound this way is not supported.\n",
    "\n",
    "Constant spectra can be instantiated by setting the value to a number. Mitsuba then automatically instantiates an acoustic spectrum that is constant in the audible spectrum range (20 Hz to 20 kHz):"
   ]
  },
  {
   "cell_type": "code",
   "execution_count": 20,
   "metadata": {},
   "outputs": [
    {
     "name": "stdout",
     "output_type": "stream",
     "text": [
      "AcousticSpectrum[\n",
      "speed_of_sound = 343\n",
      "m_distr = IrregularContinuousDistribution[\n",
      "    size = 2,\n",
      "    nodes = [20, 20000],\n",
      "    integral = [19980],\n",
      "    pdf = [1, 1],\n",
      "  ]\n",
      "]\n",
      "\n"
     ]
    }
   ],
   "source": [
    "spectrum = mi.load_dict({\n",
    "    \"type\": \"spectrum\",\n",
    "    \"value\": 1,\n",
    "})\n",
    "print(spectrum)"
   ]
  }
 ],
 "metadata": {
  "kernelspec": {
   "display_name": "mitsubadev",
   "language": "python",
   "name": "python3"
  },
  "language_info": {
   "codemirror_mode": {
    "name": "ipython",
    "version": 3
   },
   "file_extension": ".py",
   "mimetype": "text/x-python",
   "name": "python",
   "nbconvert_exporter": "python",
   "pygments_lexer": "ipython3",
   "version": "3.11.5"
  }
 },
 "nbformat": 4,
 "nbformat_minor": 2
}
