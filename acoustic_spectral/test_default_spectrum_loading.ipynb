{
 "cells": [
  {
   "cell_type": "code",
   "execution_count": 1,
   "metadata": {},
   "outputs": [
    {
     "name": "stdout",
     "output_type": "stream",
     "text": [
      "Mitsuba variant: scalar_acoustic\n"
     ]
    }
   ],
   "source": [
    "import mitsuba as mi\n",
    "import drjit as dr\n",
    "import numpy as np\n",
    "import platform\n",
    "import matplotlib.pyplot as plt\n",
    "\n",
    "mi.set_variant('scalar_acoustic')\n",
    "\n",
    "print(f'Mitsuba variant: {mi.variant()}')\n",
    "mi.set_log_level(mi.LogLevel.Warn)"
   ]
  },
  {
   "cell_type": "markdown",
   "metadata": {},
   "source": [
    "# Default spectrum Loading\n",
    "\n",
    "An acoustic spectrum can always be instantiated explicitly:"
   ]
  },
  {
   "cell_type": "code",
   "execution_count": 2,
   "metadata": {},
   "outputs": [
    {
     "name": "stdout",
     "output_type": "stream",
     "text": [
      "AcousticSpectrum[\n",
      "speed_of_sound = 343\n",
      "m_distr = IrregularContinuousDistribution[\n",
      "    size = 3,\n",
      "    nodes = [250, 500, 1000],\n",
      "    integral = 1625,\n",
      "    pdf = [1, 2, 3],\n",
      "  ]\n",
      "]\n",
      "\n"
     ]
    }
   ],
   "source": [
    "spectrum = mi.load_dict({\n",
    "    'type': 'acoustic',\n",
    "\n",
    "    'frequencies': '250, 500, 1000,',\n",
    "    'values': '1, 2, 3',\n",
    "})\n",
    "print(spectrum)"
   ]
  },
  {
   "cell_type": "markdown",
   "metadata": {},
   "source": [
    "It is also possible to instantiate the spectrum implicitly. However, note that implicitly loading a light spectrum given in nanometer wavelengths in the acoustic variants would result in the wavelengths being interpreted as frequencies in Hz. To avoid unintended effects, the user is encouraged to use the acoustic spectrum explicitly.\n",
    "\n",
    "Loading a spectrum implicitly is done using the \"spectrum\" keyword. The \"value\" keyword then contains frequency-value pairs sorted in tuples. These can either be typed in directly:"
   ]
  },
  {
   "cell_type": "code",
   "execution_count": 3,
   "metadata": {},
   "outputs": [
    {
     "name": "stdout",
     "output_type": "stream",
     "text": [
      "AcousticSpectrum[\n",
      "speed_of_sound = 343\n",
      "m_distr = IrregularContinuousDistribution[\n",
      "    size = 3,\n",
      "    nodes = [250, 500, 1000],\n",
      "    integral = 187.5,\n",
      "    pdf = [0.1, 0.2, 0.4],\n",
      "  ]\n",
      "]\n",
      "\n"
     ]
    }
   ],
   "source": [
    "spectrum = mi.load_dict({\n",
    "    \"type\": \"spectrum\",\n",
    "    \"value\": [(250, 0.1), (500, 0.2), (1000, 0.4)],\n",
    "})\n",
    "print(spectrum)"
   ]
  },
  {
   "cell_type": "markdown",
   "metadata": {},
   "source": [
    "Or, more conveniently, using the `zip` function:"
   ]
  },
  {
   "cell_type": "code",
   "execution_count": 4,
   "metadata": {},
   "outputs": [
    {
     "name": "stdout",
     "output_type": "stream",
     "text": [
      "AcousticSpectrum[\n",
      "speed_of_sound = 343\n",
      "m_distr = IrregularContinuousDistribution[\n",
      "    size = 3,\n",
      "    nodes = [250, 500, 1000],\n",
      "    integral = 1625,\n",
      "    pdf = [1, 2, 3],\n",
      "  ]\n",
      "]\n",
      "\n"
     ]
    }
   ],
   "source": [
    "frequencies = [250, 500, 1000]\n",
    "values      = [1,   2,   3]\n",
    "\n",
    "spectrum = mi.load_dict({\n",
    "    \"type\": \"spectrum\",\n",
    "    \"value\": list(zip(frequencies, values))\n",
    "})\n",
    "print(spectrum)"
   ]
  },
  {
   "cell_type": "markdown",
   "metadata": {},
   "source": [
    "Note that setting the speed of sound this way is not supported.\n",
    "\n",
    "Constant spectra can be instantiated by setting the value to a number. Mitsuba then automatically instantiates an acoustic spectrum that is constant in the audible spectrum range (20 Hz to 20 kHz):"
   ]
  },
  {
   "cell_type": "code",
   "execution_count": 5,
   "metadata": {},
   "outputs": [
    {
     "name": "stdout",
     "output_type": "stream",
     "text": [
      "AcousticSpectrum[\n",
      "speed_of_sound = 343\n",
      "m_distr = IrregularContinuousDistribution[\n",
      "    size = 2,\n",
      "    nodes = [20, 20000],\n",
      "    integral = 19980,\n",
      "    pdf = [1, 1],\n",
      "  ]\n",
      "]\n",
      "\n"
     ]
    }
   ],
   "source": [
    "spectrum = mi.load_dict({\n",
    "    \"type\": \"spectrum\",\n",
    "    \"value\": 1,\n",
    "})\n",
    "print(spectrum)"
   ]
  },
  {
   "cell_type": "markdown",
   "metadata": {},
   "source": [
    "Loading a spectrum from a file is also possible.\n",
    "\n",
    "The file should contain a single measurement per line, with the corresponding wavelength in nanometers and the measured value separated by a space. Comments are allowed. Here is an example:\n",
    "\n",
    "```\n",
    "# This file contains an acoustic spectrum.\n",
    "125 0.1\n",
    "250 0.2\n",
    "500 0.5\n",
    "1000 0.99\n",
    "2000 0.999\n",
    "...\n",
    "```"
   ]
  },
  {
   "cell_type": "code",
   "execution_count": 6,
   "metadata": {},
   "outputs": [
    {
     "name": "stdout",
     "output_type": "stream",
     "text": [
      "AcousticSpectrum[\n",
      "speed_of_sound = 343\n",
      "m_distr = IrregularContinuousDistribution[\n",
      "    size = 5,\n",
      "    nodes = [125, 250, 500, 1000, 2000],\n",
      "    integral = 1473.25,\n",
      "    pdf = [0.1, 0.2, 0.5, 0.99, 0.999],\n",
      "  ]\n",
      "]\n",
      "\n"
     ]
    }
   ],
   "source": [
    "spectrum = mi.load_dict({\n",
    "    \"type\": \"spectrum\",\n",
    "    \"filename\": \"acoustic_spectrum.spd\",\n",
    "})\n",
    "print(spectrum)"
   ]
  },
  {
   "cell_type": "markdown",
   "metadata": {},
   "source": [
    "Loading an rgb spectrum results in an error in acoustic variants:"
   ]
  },
  {
   "cell_type": "code",
   "execution_count": 7,
   "metadata": {},
   "outputs": [
    {
     "ename": "RuntimeError",
     "evalue": "​[xml.cpp:1196] RGB textures are not supported in acoustic variants!",
     "output_type": "error",
     "traceback": [
      "\u001b[0;31m---------------------------------------------------------------------------\u001b[0m",
      "\u001b[0;31mRuntimeError\u001b[0m                              Traceback (most recent call last)",
      "\u001b[1;32m/home/tjueterb/code/mitsuba3/notebooks/acoustic_spectral/test_default_spectrum_loading.ipynb Cell 13\u001b[0m line \u001b[0;36m1\n\u001b[0;32m----> <a href='vscode-notebook-cell:/home/tjueterb/code/mitsuba3/notebooks/acoustic_spectral/test_default_spectrum_loading.ipynb#X13sZmlsZQ%3D%3D?line=0'>1</a>\u001b[0m spectrum \u001b[39m=\u001b[39m mi\u001b[39m.\u001b[39mload_dict({\n\u001b[1;32m      <a href='vscode-notebook-cell:/home/tjueterb/code/mitsuba3/notebooks/acoustic_spectral/test_default_spectrum_loading.ipynb#X13sZmlsZQ%3D%3D?line=1'>2</a>\u001b[0m     \u001b[39m\"\u001b[39m\u001b[39mtype\u001b[39m\u001b[39m\"\u001b[39m: \u001b[39m\"\u001b[39m\u001b[39mrgb\u001b[39m\u001b[39m\"\u001b[39m,\n\u001b[1;32m      <a href='vscode-notebook-cell:/home/tjueterb/code/mitsuba3/notebooks/acoustic_spectral/test_default_spectrum_loading.ipynb#X13sZmlsZQ%3D%3D?line=2'>3</a>\u001b[0m     \u001b[39m\"\u001b[39m\u001b[39mvalue\u001b[39m\u001b[39m\"\u001b[39m: [\u001b[39m0.1\u001b[39m, \u001b[39m0.2\u001b[39m, \u001b[39m0.3\u001b[39m],\n\u001b[1;32m      <a href='vscode-notebook-cell:/home/tjueterb/code/mitsuba3/notebooks/acoustic_spectral/test_default_spectrum_loading.ipynb#X13sZmlsZQ%3D%3D?line=3'>4</a>\u001b[0m })\n\u001b[1;32m      <a href='vscode-notebook-cell:/home/tjueterb/code/mitsuba3/notebooks/acoustic_spectral/test_default_spectrum_loading.ipynb#X13sZmlsZQ%3D%3D?line=4'>5</a>\u001b[0m \u001b[39mprint\u001b[39m(spectrum)\n",
      "\u001b[0;31mRuntimeError\u001b[0m: ​[xml.cpp:1196] RGB textures are not supported in acoustic variants!"
     ]
    }
   ],
   "source": [
    "spectrum = mi.load_dict({\n",
    "    \"type\": \"rgb\",\n",
    "    \"value\": [0.1, 0.2, 0.3],\n",
    "})\n",
    "print(spectrum)"
   ]
  }
 ],
 "metadata": {
  "kernelspec": {
   "display_name": "mitsubadev",
   "language": "python",
   "name": "python3"
  },
  "language_info": {
   "codemirror_mode": {
    "name": "ipython",
    "version": 3
   },
   "file_extension": ".py",
   "mimetype": "text/x-python",
   "name": "python",
   "nbconvert_exporter": "python",
   "pygments_lexer": "ipython3",
   "version": "3.11.5"
  }
 },
 "nbformat": 4,
 "nbformat_minor": 2
}
