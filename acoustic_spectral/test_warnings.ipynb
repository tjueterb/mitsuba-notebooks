{
 "cells": [
  {
   "cell_type": "markdown",
   "metadata": {},
   "source": [
    "# Testing warnings when manually setting the speed of sound"
   ]
  },
  {
   "cell_type": "code",
   "execution_count": null,
   "metadata": {},
   "outputs": [],
   "source": [
    "import mitsuba as mi\n",
    "import drjit as dr\n",
    "import numpy as np\n",
    "import platform\n",
    "import matplotlib.pyplot as plt\n",
    "\n",
    "if platform.system() == 'Darwin':\n",
    "    mi.set_variant('llvm_acoustic')\n",
    "else:\n",
    "    mi.set_variant('cuda_acoustic')\n",
    "\n",
    "print(f'Mitsuba variant: {mi.variant()}')"
   ]
  },
  {
   "cell_type": "code",
   "execution_count": null,
   "metadata": {},
   "outputs": [],
   "source": [
    "spectrum = mi.load_dict({\n",
    "    \"type\": \"acoustic\",\n",
    "    \"speed_of_sound\": 450,\n",
    "    \"frequencies\": \"200, 300, 500\",\n",
    "    \"values\": \"0.5, 2, 1\"\n",
    "})\n",
    "# print(spectrum)"
   ]
  },
  {
   "cell_type": "code",
   "execution_count": null,
   "metadata": {},
   "outputs": [],
   "source": [
    "# TODO: Fix bug where this raises an exception\n",
    "\n",
    "# int = mi.load_dict({\n",
    "#     \"type\": \"acousticpath\",\n",
    "# })"
   ]
  },
  {
   "cell_type": "code",
   "execution_count": null,
   "metadata": {},
   "outputs": [],
   "source": [
    "int = mi.load_dict({\n",
    "    \"type\": \"acousticpath\",\n",
    "    \"rr_depth\": 10,\n",
    "    \"speed_of_sound\": 450,\n",
    "})"
   ]
  },
  {
   "cell_type": "code",
   "execution_count": null,
   "metadata": {},
   "outputs": [],
   "source": [
    "integrator = mi.load_dict({\n",
    "    \"type\": \"prb_acoustic\",\n",
    "    \"speed_of_sound\": 500,\n",
    "})"
   ]
  },
  {
   "cell_type": "code",
   "execution_count": null,
   "metadata": {},
   "outputs": [],
   "source": [
    "integrator = mi.load_dict({\n",
    "    \"type\": \"prb_reparam_acoustic\",\n",
    "})"
   ]
  },
  {
   "cell_type": "code",
   "execution_count": null,
   "metadata": {},
   "outputs": [],
   "source": [
    "integrator = mi.load_dict({\n",
    "    \"type\": \"prb_acoustic\",\n",
    "    \"speed_of_sound\": 500,\n",
    "})"
   ]
  }
 ],
 "metadata": {
  "kernelspec": {
   "display_name": "mitsubadev",
   "language": "python",
   "name": "python3"
  },
  "language_info": {
   "codemirror_mode": {
    "name": "ipython",
    "version": 3
   },
   "file_extension": ".py",
   "mimetype": "text/x-python",
   "name": "python",
   "nbconvert_exporter": "python",
   "pygments_lexer": "ipython3",
   "version": "3.10.13"
  }
 },
 "nbformat": 4,
 "nbformat_minor": 2
}
